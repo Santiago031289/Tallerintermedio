{
 "cells": [
  {
   "cell_type": "code",
   "execution_count": 2,
   "id": "5dd584b4-acbd-4050-8ff6-d9d13f1d6852",
   "metadata": {},
   "outputs": [],
   "source": [
    "import numpy as np\n",
    "import xarray as xr\n",
    "import matplotlib.pyplot as plt\n",
    "import cmocean as cmo\n",
    "import cartopy.crs as ccrs\n",
    "import cartopy.feature as cfeature\n",
    "from datetime import datetime"
   ]
  },
  {
   "cell_type": "code",
   "execution_count": 4,
   "id": "b4535854-1f9e-4a7c-a195-54f057d3e865",
   "metadata": {},
   "outputs": [
    {
     "name": "stdout",
     "output_type": "stream",
     "text": [
      "=== ANÁLISIS HISTÓRICO ERA5 (1959-2019) ===\n"
     ]
    }
   ],
   "source": [
    "#ANÁLISIS HISTÓRICO CON DATOS ERA5\n",
    "# =============================================================================\n",
    "\n",
    "print(\"=== ANÁLISIS HISTÓRICO ERA5 (1959-2019) ===\")"
   ]
  },
  {
   "cell_type": "code",
   "execution_count": null,
   "id": "0143b443-dc3a-4479-86ce-50323501aa92",
   "metadata": {},
   "outputs": [],
   "source": []
  }
 ],
 "metadata": {
  "kernelspec": {
   "display_name": "Python 3 (ipykernel)",
   "language": "python",
   "name": "python3"
  },
  "language_info": {
   "codemirror_mode": {
    "name": "ipython",
    "version": 3
   },
   "file_extension": ".py",
   "mimetype": "text/x-python",
   "name": "python",
   "nbconvert_exporter": "python",
   "pygments_lexer": "ipython3",
   "version": "3.12.7"
  }
 },
 "nbformat": 4,
 "nbformat_minor": 5
}
